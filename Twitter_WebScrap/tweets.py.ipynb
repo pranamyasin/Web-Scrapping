{
 "cells": [
  {
   "cell_type": "code",
   "execution_count": 26,
   "id": "07bf2061",
   "metadata": {},
   "outputs": [],
   "source": [
    "import snscrape.modules.twitter as sntwitter"
   ]
  },
  {
   "cell_type": "code",
   "execution_count": 27,
   "id": "a131629f",
   "metadata": {},
   "outputs": [],
   "source": [
    "import pandas as pd"
   ]
  },
  {
   "cell_type": "code",
   "execution_count": 28,
   "id": "3e58c57f",
   "metadata": {},
   "outputs": [],
   "source": [
    "query ='Flight'"
   ]
  },
  {
   "cell_type": "code",
   "execution_count": 29,
   "id": "f676ba34",
   "metadata": {},
   "outputs": [],
   "source": [
    "tweets = []"
   ]
  },
  {
   "cell_type": "code",
   "execution_count": 30,
   "id": "3d41ce78",
   "metadata": {},
   "outputs": [],
   "source": [
    "limit = 100"
   ]
  },
  {
   "cell_type": "code",
   "execution_count": 31,
   "id": "79a0bcf7",
   "metadata": {},
   "outputs": [
    {
     "name": "stdout",
     "output_type": "stream",
     "text": [
      "                        Date             User  \\\n",
      "0  2023-01-04 16:52:28+00:00   janie_johansen   \n",
      "1  2023-01-04 16:52:27+00:00  besttt_flight4u   \n",
      "2  2023-01-04 16:52:25+00:00        velsmells   \n",
      "3  2023-01-04 16:52:24+00:00         1ipoeiii   \n",
      "4  2023-01-04 16:52:19+00:00       PogueMoran   \n",
      "..                       ...              ...   \n",
      "95 2023-01-04 16:49:47+00:00  imgoing_insanee   \n",
      "96 2023-01-04 16:49:44+00:00       EDDC_Radar   \n",
      "97 2023-01-04 16:49:44+00:00  besttt_flight4u   \n",
      "98 2023-01-04 16:49:42+00:00        tush_2708   \n",
      "99 2023-01-04 16:49:41+00:00      YoonieTuber   \n",
      "\n",
      "                                                Tweet  \n",
      "0   https://t.co/kURWVIIXd6        #idaho4 This is...  \n",
      "1   #NCT127 #엔시티127 #항공편\\n\\n서울 &gt; 시카고\\n시카고 &gt; ...  \n",
      "2   I’m crying and laughing I woke up at 5 today t...  \n",
      "3                   @Toonthreemando1 safe flight นะฮะ  \n",
      "4   @MichealleRenee @DimensioT Clearly fake.  It d...  \n",
      "..                                                ...  \n",
      "95  i'm kidding i'll eat ice. wish me a safe fligh...  \n",
      "96  USAF | 3WG | 517AS [PAED] Boeing C-17A Globema...  \n",
      "97  🆕 #P1Harmony #피원하모니 #항공편\\n\\n미국 국내\\n\\n시카고 &gt; ...  \n",
      "98  Dear @airindiain : So you mean that if someone...  \n",
      "99  @gabep451 OK ... lemme just chary a flight wit...  \n",
      "\n",
      "[100 rows x 3 columns]\n"
     ]
    }
   ],
   "source": [
    "for tweet in sntwitter.TwitterSearchScraper(query).get_items():\n",
    "    \n",
    "    #print(vars(tweet))\n",
    "    #break\n",
    "    if len(tweets) == limit:\n",
    "        break\n",
    "    else:\n",
    "        tweets.append([tweet.date, tweet.user.username, tweet.content])\n",
    "        \n",
    "        \n",
    "df= pd.DataFrame(tweets, columns=['Date', 'User', 'Tweet'])\n",
    "print(df)"
   ]
  },
  {
   "cell_type": "code",
   "execution_count": 32,
   "id": "7d50d3c5",
   "metadata": {},
   "outputs": [],
   "source": [
    "df.to_csv('flight_tweets.csv')       #To capture Data AS csv File."
   ]
  },
  {
   "cell_type": "code",
   "execution_count": null,
   "id": "c23041a5",
   "metadata": {},
   "outputs": [],
   "source": []
  }
 ],
 "metadata": {
  "kernelspec": {
   "display_name": "Python 3 (ipykernel)",
   "language": "python",
   "name": "python3"
  },
  "language_info": {
   "codemirror_mode": {
    "name": "ipython",
    "version": 3
   },
   "file_extension": ".py",
   "mimetype": "text/x-python",
   "name": "python",
   "nbconvert_exporter": "python",
   "pygments_lexer": "ipython3",
   "version": "3.9.12"
  }
 },
 "nbformat": 4,
 "nbformat_minor": 5
}
